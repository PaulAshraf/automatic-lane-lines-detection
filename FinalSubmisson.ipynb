{
 "cells": [
  {
   "cell_type": "code",
   "execution_count": 1,
   "metadata": {},
   "outputs": [
    {
     "name": "stdout",
     "output_type": "stream",
     "text": [
      "Python Notebook works correctly!\n"
     ]
    }
   ],
   "source": [
    "#importing some useful packages\n",
    "import matplotlib.pyplot as plt\n",
    "import matplotlib.image as mpimg\n",
    "import numpy as np\n",
    "import cv2\n",
    "%matplotlib inline\n",
    "print(\"Python Notebook works correctly!\")"
   ]
  },
  {
   "cell_type": "code",
   "execution_count": 2,
   "metadata": {},
   "outputs": [],
   "source": [
    "import math\n",
    "\n",
    "def grayscale(img):\n",
    "    \"\"\"Applies the Grayscale transform\n",
    "    This will return an image with only one color channel\n",
    "    but NOTE: to see the returned image as grayscale\n",
    "    (assuming your grayscaled image is called 'gray')\n",
    "    you should call plt.imshow(gray, cmap='gray')\"\"\"\n",
    "    return cv2.cvtColor(img, cv2.COLOR_RGB2GRAY)\n",
    "    # Or use BGR2GRAY if you read an image with cv2.imread()\n",
    "    # return cv2.cvtColor(img, cv2.COLOR_BGR2GRAY)\n",
    "    \n",
    "def canny(img, low_threshold, high_threshold):\n",
    "    \"\"\"Applies the Canny transform\"\"\"\n",
    "    return cv2.Canny(img, low_threshold, high_threshold)\n",
    "\n",
    "def gaussian_blur(img, kernel_size):\n",
    "    \"\"\"Applies a Gaussian Noise kernel\"\"\"\n",
    "    return cv2.GaussianBlur(img, (kernel_size, kernel_size), 0)\n",
    "\n",
    "def region_of_interest(img, vertices):\n",
    "    \"\"\"\n",
    "    Applies an image mask.\n",
    "    \n",
    "    Only keeps the region of the image defined by the polygon\n",
    "    formed from `vertices`. The rest of the image is set to black.\n",
    "    \"\"\"\n",
    "    #defining a blank mask to start with\n",
    "    mask = np.zeros_like(img)   \n",
    "    \n",
    "    #defining a 3 channel or 1 channel color to fill the mask with depending on the input image\n",
    "    if len(img.shape) > 2:\n",
    "        channel_count = img.shape[2]  # i.e. 3 or 4 depending on your image\n",
    "        ignore_mask_color = (255,) * channel_count\n",
    "    else:\n",
    "        ignore_mask_color = 255\n",
    "        \n",
    "    #filling pixels inside the polygon defined by \"vertices\" with the fill color    \n",
    "    cv2.fillPoly(mask, vertices, ignore_mask_color)\n",
    "    \n",
    "    #returning the image only where mask pixels are nonzero\n",
    "    masked_image = cv2.bitwise_and(img, mask)\n",
    "    return masked_image\n",
    "\n",
    "\n",
    "def draw_lines(img, lines, color=[255, 0, 0], thickness=2):\n",
    "    \"\"\"\n",
    "    NOTE: this is the function you might want to use as a starting point once you want to \n",
    "    average/extrapolate the line segments you detect to map out the full\n",
    "    extent of the lane (going from the result shown in raw-lines-example.mp4\n",
    "    to that shown in P1_example.mp4).  \n",
    "    \n",
    "    Think about things like separating line segments by their \n",
    "    slope ((y2-y1)/(x2-x1)) to decide which segments are part of the left\n",
    "    line vs. the right line.  Then, you can average the position of each of \n",
    "    the lines and extrapolate to the top and bottom of the lane.\n",
    "    \n",
    "    This function draws `lines` with `color` and `thickness`.    \n",
    "    Lines are drawn on the image inplace (mutates the image).\n",
    "    If you want to make the lines semi-transparent, think about combining\n",
    "    this function with the weighted_img() function below\n",
    "    \"\"\"\n",
    "    #Initializes the image, so that if there is no lines it doesnt cause errors.\n",
    "    \n",
    "    line_img = np.zeros(\n",
    "        (\n",
    "            img.shape[0],\n",
    "            img.shape[1],\n",
    "            3\n",
    "        ),\n",
    "        dtype=np.uint8\n",
    "    )\n",
    "    img = np.copy(img)\n",
    "    if lines is None:\n",
    "        return\n",
    "    for line in lines:\n",
    "        for x1, y1, x2, y2 in line:\n",
    "            cv2.line(line_img, (x1, y1), (x2, y2), color, thickness)\n",
    "            \n",
    "    img = weighted_img(line_img,img) #Calls the weighted_img() function to combine the lane lines drawn and the original image\n",
    "    \n",
    "    return img\n",
    "\n",
    "def hough_lines(img, rho, theta, threshold, min_line_len, max_line_gap):\n",
    "    \"\"\"\n",
    "    `img` should be the output of a Canny transform.\n",
    "        \n",
    "    Returns an image with hough lines drawn.\n",
    "    \"\"\"\n",
    "    lines = cv2.HoughLinesP(img, rho, theta, threshold, np.array([]), minLineLength=min_line_len, maxLineGap=max_line_gap)\n",
    "    line_img = np.zeros((img.shape[0], img.shape[1], 3), dtype=np.uint8)\n",
    "    draw_lines(line_img, lines)\n",
    "    return line_img\n",
    "\n",
    "# Python 3 has support for cool math symbols.\n",
    "\n",
    "def weighted_img(img, initial_img, α=0.8, β=1., γ=0.):\n",
    "    \"\"\"\n",
    "    `img` is the output of the hough_lines(), An image with lines drawn on it.\n",
    "    Should be a blank image (all black) with lines drawn on it.\n",
    "    \n",
    "    `initial_img` should be the image before any processing.\n",
    "    \n",
    "    The result image is computed as follows:\n",
    "    \n",
    "    initial_img * α + img * β + γ\n",
    "    NOTE: initial_img and img must be the same shape!\n",
    "    \"\"\"\n",
    "    return cv2.addWeighted(initial_img, α, img, β, γ)"
   ]
  },
  {
   "cell_type": "code",
   "execution_count": 3,
   "metadata": {},
   "outputs": [
    {
     "data": {
      "text/plain": [
       "['solidYellowCurve.jpg',\n",
       " 'solidYellowLeft.jpg',\n",
       " 'solidYellowCurve2.jpg',\n",
       " 'solidWhiteRight.jpg',\n",
       " 'whiteCarLaneSwitch.jpg',\n",
       " 'solidWhiteCurve.jpg']"
      ]
     },
     "execution_count": 3,
     "metadata": {},
     "output_type": "execute_result"
    }
   ],
   "source": [
    "import os\n",
    "os.listdir(\"SDC-Bachelor-Task-master/SDC-Bachelor-Task-master/test_images/\")"
   ]
  },
  {
   "cell_type": "code",
   "execution_count": 4,
   "metadata": {},
   "outputs": [],
   "source": [
    "\n",
    "# Import everything needed to edit/save/watch video clips\n",
    "from moviepy.editor import VideoFileClip\n",
    "from IPython.display import HTML"
   ]
  },
  {
   "cell_type": "code",
   "execution_count": 5,
   "metadata": {},
   "outputs": [],
   "source": [
    "def process_image(image):\n",
    "    # NOTE: The output you return should be a color image (3 channel) for processing video below\n",
    "    # TODO: put your pipeline here,\n",
    "    # you should return the final output (image where lines are drawn on lanes)\n",
    "    #\n",
    "    #image = mpimg.imread('SDC-Bachelor-Task-master/SDC-Bachelor-Task-master/test_images/solidWhiteCurve.jpg')\n",
    "\n",
    "\n",
    "    image_canny = canny(grayscale(image),100,200)\n",
    "    #Applies the Canny tranfrom to the greyscale version of the image.\n",
    "\n",
    "    height = image.shape[0]\n",
    "    width = image.shape[1]\n",
    "    #Gets the height and width of the image.\n",
    "    \n",
    "    vertices = [\n",
    "        (0, height),\n",
    "        (width / 2, height / 2),\n",
    "        (width, height),\n",
    "    ]\n",
    "    #A list of the vertices of a triangle that has the base of the image (2 points on the bottom corners of the image)\n",
    "    # and the thord point in the center of the image. this is the place you'd normmally find the desired lane lines in any video feed.\n",
    "    # NOTE: doing this helps in cleaning the result in videos 1,3,4. However, it doesn't work on video 2 as the lane lines\n",
    "    #are on the edges of the frame. So, this method is not perfect and needs reworking.\n",
    "    \n",
    "\n",
    "    cropped_image = region_of_interest(\n",
    "        image_canny,\n",
    "        np.array([vertices], np.int32),\n",
    "    )\n",
    "    #Crops the image as deescribed above.\n",
    "\n",
    "  \n",
    "    \n",
    "    lines = cv2.HoughLinesP(\n",
    "        cropped_image,\n",
    "        rho=6,\n",
    "        theta=np.pi / 60,\n",
    "        threshold=160,\n",
    "        lines=np.array([]),\n",
    "        minLineLength=40,\n",
    "        maxLineGap=25\n",
    "    )\n",
    "    #Gets the hough lines\n",
    "    #Didn't use the provided function because I wanted to use the array \"lines\" further down, not the resulting image.\n",
    "    \n",
    "    if(lines is None):\n",
    "        lines = []\n",
    "    #This is so that if there are no Hough Lines detected in the frame (Some frames in video 1 and all of video 2)\n",
    "    #it sets the \"lines\" array to [] so that it doesnt cause errors further down.\n",
    " \n",
    "    ##DRAWING 2 UNIFIED LANE LINES##\n",
    "\n",
    "    left_line_x = []\n",
    "    left_line_y = []\n",
    "    right_line_x = []\n",
    "    right_line_y = []\n",
    "    #Sets 4 lists which are the x/y coordinates of all the Hough lines of the left/right lane\n",
    "    \n",
    "    if(len(lines) != 0) :\n",
    "        for line in lines:\n",
    "            for x1, y1, x2, y2 in line:\n",
    "                slope = (y2 - y1) / (x2 - x1)\n",
    "                if math.fabs(slope) < 0.5: #discards lines with slope ~0 (flat lines)\n",
    "                    continue\n",
    "                if slope <= 0:\n",
    "                    left_line_x.extend([x1, x2])\n",
    "                    left_line_y.extend([y1, y2])\n",
    "                else:\n",
    "                    right_line_x.extend([x1, x2])\n",
    "                    right_line_y.extend([y1, y2])\n",
    "    #This method checks for the slop of each lines to determine wether it belongs to left or right lane.\n",
    "    #If it has a negative slope, then it's a left lane, and vice versa.\n",
    "   \n",
    "\n",
    "    if(len(left_line_x) != 0 and len(left_line_y) != 0 and len(right_line_x) != 0 and  len(right_line_y) != 0):            \n",
    "    \n",
    "        min_y = int(image.shape[0] * (3 / 5))\n",
    "        max_y = int(image.shape[0])\n",
    "        poly_left = np.poly1d(np.polyfit(\n",
    "            left_line_y,\n",
    "            left_line_x,\n",
    "            deg=1\n",
    "        ))\n",
    "\n",
    "        left_x_start = int(poly_left(max_y))\n",
    "        left_x_end = int(poly_left(min_y))\n",
    "\n",
    "        poly_right = np.poly1d(np.polyfit(\n",
    "            right_line_y,\n",
    "            right_line_x,\n",
    "           deg=1\n",
    "        ))\n",
    "\n",
    "        right_x_start = int(poly_right(max_y))\n",
    "        right_x_end = int(poly_right(min_y))\n",
    "        line_image = draw_lines(\n",
    "            image,\n",
    "            [[\n",
    "                [left_x_start, max_y, left_x_end, min_y],\n",
    "                [right_x_start, max_y, right_x_end, min_y],\n",
    "            ]],\n",
    "            thickness=5,\n",
    "        )\n",
    "    else:\n",
    "        line_image = weighted_img(np.zeros((image.shape[0], image.shape[1], 3), dtype=np.uint8),image)\n",
    "\n",
    "    #This methods uses the polyfit method to form 2 unified lane lines using the 4 lists created above.\n",
    "    \n",
    "    return line_image "
   ]
  },
  {
   "cell_type": "code",
   "execution_count": 6,
   "metadata": {},
   "outputs": [
    {
     "name": "stdout",
     "output_type": "stream",
     "text": [
      "[MoviePy] >>>> Building video test_videos_output/1.mp4\n",
      "[MoviePy] Writing video test_videos_output/1.mp4\n"
     ]
    },
    {
     "name": "stderr",
     "output_type": "stream",
     "text": [
      "100%|██████████| 251/251 [00:19<00:00, 14.52it/s]\n"
     ]
    },
    {
     "name": "stdout",
     "output_type": "stream",
     "text": [
      "[MoviePy] Done.\n",
      "[MoviePy] >>>> Video ready: test_videos_output/1.mp4 \n",
      "\n",
      "CPU times: user 6.67 s, sys: 1.34 s, total: 8.01 s\n",
      "Wall time: 21.6 s\n",
      "[MoviePy] >>>> Building video test_videos_output/2.mp4\n",
      "[MoviePy] Writing video test_videos_output/2.mp4\n"
     ]
    },
    {
     "name": "stderr",
     "output_type": "stream",
     "text": [
      "100%|██████████| 201/201 [00:10<00:00, 18.94it/s]\n"
     ]
    },
    {
     "name": "stdout",
     "output_type": "stream",
     "text": [
      "[MoviePy] Done.\n",
      "[MoviePy] >>>> Video ready: test_videos_output/2.mp4 \n",
      "\n",
      "CPU times: user 3.5 s, sys: 1.13 s, total: 4.63 s\n",
      "Wall time: 11.9 s\n",
      "[MoviePy] >>>> Building video test_videos_output/3.mp4\n",
      "[MoviePy] Writing video test_videos_output/3.mp4\n"
     ]
    },
    {
     "name": "stderr",
     "output_type": "stream",
     "text": [
      "100%|█████████▉| 221/222 [00:10<00:00, 27.12it/s]\n"
     ]
    },
    {
     "name": "stdout",
     "output_type": "stream",
     "text": [
      "[MoviePy] Done.\n",
      "[MoviePy] >>>> Video ready: test_videos_output/3.mp4 \n",
      "\n",
      "CPU times: user 3.1 s, sys: 777 ms, total: 3.88 s\n",
      "Wall time: 11.8 s\n",
      "[MoviePy] >>>> Building video test_videos_output/4.mp4\n",
      "[MoviePy] Writing video test_videos_output/4.mp4\n"
     ]
    },
    {
     "name": "stderr",
     "output_type": "stream",
     "text": [
      "100%|█████████▉| 681/682 [00:28<00:00, 24.10it/s]\n"
     ]
    },
    {
     "name": "stdout",
     "output_type": "stream",
     "text": [
      "[MoviePy] Done.\n",
      "[MoviePy] >>>> Video ready: test_videos_output/4.mp4 \n",
      "\n",
      "CPU times: user 9.53 s, sys: 2.32 s, total: 11.8 s\n",
      "Wall time: 29.4 s\n"
     ]
    }
   ],
   "source": [
    "white_output_1 = 'test_videos_output/1.mp4'\n",
    "white_output_2 = 'test_videos_output/2.mp4'\n",
    "white_output_3 = 'test_videos_output/3.mp4'\n",
    "white_output_4 = 'test_videos_output/4.mp4'\n",
    "\n",
    "## To speed up the testing process you may want to try your pipeline on a shorter subclip of the video\n",
    "## To do so add .subclip(start_second,end_second) to the end of the line below\n",
    "## Where start_second and end_second are integer values representing the start and end of the subclip\n",
    "## You may also uncomment the following line for a subclip of the first 5 seconds\n",
    "##clip1 = VideoFileClip(\"test_videos/solidWhiteRight.mp4\").subclip(0,5)\n",
    "\n",
    "clip1 = VideoFileClip(\"SDC-Bachelor-Task-master/SDC-Bachelor-Task-master/test_videos/1.mp4\")\n",
    "white_clip_1 = clip1.fl_image(process_image) #NOTE: this function expects color images!!\n",
    "%time white_clip_1.write_videofile(white_output_1, audio=False)\n",
    "\n",
    "clip2 = VideoFileClip(\"SDC-Bachelor-Task-master/SDC-Bachelor-Task-master/test_videos/2.mp4\")\n",
    "white_clip_2 = clip2.fl_image(process_image) #NOTE: this function expects color images!!\n",
    "%time white_clip_2.write_videofile(white_output_2, audio=False)\n",
    "\n",
    "clip3 = VideoFileClip(\"SDC-Bachelor-Task-master/SDC-Bachelor-Task-master/test_videos/3.mp4\")\n",
    "white_clip_3 = clip3.fl_image(process_image) #NOTE: this function expects color images!!\n",
    "%time white_clip_3.write_videofile(white_output_3, audio=False)\n",
    "\n",
    "clip4 = VideoFileClip(\"SDC-Bachelor-Task-master/SDC-Bachelor-Task-master/test_videos/4.mp4\")\n",
    "white_clip_4 = clip4.fl_image(process_image) #NOTE: this function expects color images!!\n",
    "%time white_clip_4.write_videofile(white_output_4, audio=False)\n"
   ]
  },
  {
   "cell_type": "code",
   "execution_count": 7,
   "metadata": {},
   "outputs": [
    {
     "data": {
      "text/html": [
       "\n",
       "<video width=\"960\" height=\"540\" controls>\n",
       "  <source src=\"test_videos_output/4.mp4\">\n",
       "</video>\n"
      ],
      "text/plain": [
       "<IPython.core.display.HTML object>"
      ]
     },
     "execution_count": 7,
     "metadata": {},
     "output_type": "execute_result"
    }
   ],
   "source": [
    "HTML(\"\"\"\n",
    "<video width=\"960\" height=\"540\" controls>\n",
    "  <source src=\"{0}\">\n",
    "</video>\n",
    "\"\"\".format(white_output_1))\n"
   ]
  },
  {
   "cell_type": "code",
   "execution_count": 8,
   "metadata": {},
   "outputs": [
    {
     "data": {
      "text/html": [
       "\n",
       "<video width=\"960\" height=\"540\" controls>\n",
       "  <source src=\"test_videos_output/2.mp4\">\n",
       "</video>\n"
      ],
      "text/plain": [
       "<IPython.core.display.HTML object>"
      ]
     },
     "execution_count": 8,
     "metadata": {},
     "output_type": "execute_result"
    }
   ],
   "source": [
    "HTML(\"\"\"\n",
    "<video width=\"960\" height=\"540\" controls>\n",
    "  <source src=\"{0}\">\n",
    "</video>\n",
    "\"\"\".format(white_output_2))"
   ]
  },
  {
   "cell_type": "code",
   "execution_count": 9,
   "metadata": {},
   "outputs": [
    {
     "data": {
      "text/html": [
       "\n",
       "<video width=\"960\" height=\"540\" controls>\n",
       "  <source src=\"test_videos_output/3.mp4\">\n",
       "</video>\n"
      ],
      "text/plain": [
       "<IPython.core.display.HTML object>"
      ]
     },
     "execution_count": 9,
     "metadata": {},
     "output_type": "execute_result"
    }
   ],
   "source": [
    "HTML(\"\"\"\n",
    "<video width=\"960\" height=\"540\" controls>\n",
    "  <source src=\"{0}\">\n",
    "</video>\n",
    "\"\"\".format(white_output_3))"
   ]
  },
  {
   "cell_type": "code",
   "execution_count": 10,
   "metadata": {},
   "outputs": [
    {
     "data": {
      "text/html": [
       "\n",
       "<video width=\"960\" height=\"540\" controls>\n",
       "  <source src=\"test_videos_output/4.mp4\">\n",
       "</video>\n"
      ],
      "text/plain": [
       "<IPython.core.display.HTML object>"
      ]
     },
     "execution_count": 10,
     "metadata": {},
     "output_type": "execute_result"
    }
   ],
   "source": [
    "HTML(\"\"\"\n",
    "<video width=\"960\" height=\"540\" controls>\n",
    "  <source src=\"{0}\">\n",
    "</video>\n",
    "\"\"\".format(white_output_4))"
   ]
  },
  {
   "cell_type": "code",
   "execution_count": null,
   "metadata": {},
   "outputs": [],
   "source": []
  }
 ],
 "metadata": {
  "kernelspec": {
   "display_name": "Python 3",
   "language": "python",
   "name": "python3"
  },
  "language_info": {
   "codemirror_mode": {
    "name": "ipython",
    "version": 3
   },
   "file_extension": ".py",
   "mimetype": "text/x-python",
   "name": "python",
   "nbconvert_exporter": "python",
   "pygments_lexer": "ipython3",
   "version": "3.5.2"
  },
  "widgets": {
   "state": {},
   "version": "1.1.2"
  }
 },
 "nbformat": 4,
 "nbformat_minor": 2
}
